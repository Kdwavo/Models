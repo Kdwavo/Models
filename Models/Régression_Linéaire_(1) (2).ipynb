{
 "cells": [
  {
   "cell_type": "code",
   "execution_count": 5,
   "id": "601ac8b6",
   "metadata": {
    "id": "601ac8b6"
   },
   "outputs": [],
   "source": [
    "#importer les libraries\n",
    "import pandas as pd\n",
    "import numpy as np\n",
    "import matplotlib.pyplot as plt\n",
    "from sklearn.model_selection import train_test_split\n",
    "from sklearn.linear_model import LinearRegression"
   ]
  },
  {
   "cell_type": "code",
   "execution_count": 7,
   "id": "ea95c022",
   "metadata": {
    "colab": {
     "base_uri": "https://localhost:8080/",
     "height": 206
    },
    "id": "ea95c022",
    "outputId": "6b466610-b135-45c6-aac4-ce20d48bc5b1"
   },
   "outputs": [
    {
     "data": {
      "text/html": [
       "<div>\n",
       "<style scoped>\n",
       "    .dataframe tbody tr th:only-of-type {\n",
       "        vertical-align: middle;\n",
       "    }\n",
       "\n",
       "    .dataframe tbody tr th {\n",
       "        vertical-align: top;\n",
       "    }\n",
       "\n",
       "    .dataframe thead th {\n",
       "        text-align: right;\n",
       "    }\n",
       "</style>\n",
       "<table border=\"1\" class=\"dataframe\">\n",
       "  <thead>\n",
       "    <tr style=\"text-align: right;\">\n",
       "      <th></th>\n",
       "      <th>Date</th>\n",
       "      <th>SOL</th>\n",
       "      <th>GDP</th>\n",
       "    </tr>\n",
       "  </thead>\n",
       "  <tbody>\n",
       "    <tr>\n",
       "      <th>0</th>\n",
       "      <td>01/01/2012</td>\n",
       "      <td>5.461777e+06</td>\n",
       "      <td>5.804692e+11</td>\n",
       "    </tr>\n",
       "    <tr>\n",
       "      <th>1</th>\n",
       "      <td>01/04/2012</td>\n",
       "      <td>6.578292e+06</td>\n",
       "      <td>5.728170e+11</td>\n",
       "    </tr>\n",
       "    <tr>\n",
       "      <th>2</th>\n",
       "      <td>01/07/2012</td>\n",
       "      <td>6.034126e+06</td>\n",
       "      <td>5.760421e+11</td>\n",
       "    </tr>\n",
       "    <tr>\n",
       "      <th>3</th>\n",
       "      <td>01/10/2012</td>\n",
       "      <td>6.016527e+06</td>\n",
       "      <td>5.885344e+11</td>\n",
       "    </tr>\n",
       "    <tr>\n",
       "      <th>4</th>\n",
       "      <td>01/01/2013</td>\n",
       "      <td>6.884214e+06</td>\n",
       "      <td>5.826578e+11</td>\n",
       "    </tr>\n",
       "  </tbody>\n",
       "</table>\n",
       "</div>"
      ],
      "text/plain": [
       "         Date           SOL           GDP\n",
       "0  01/01/2012  5.461777e+06  5.804692e+11\n",
       "1  01/04/2012  6.578292e+06  5.728170e+11\n",
       "2  01/07/2012  6.034126e+06  5.760421e+11\n",
       "3  01/10/2012  6.016527e+06  5.885344e+11\n",
       "4  01/01/2013  6.884214e+06  5.826578e+11"
      ]
     },
     "execution_count": 7,
     "metadata": {},
     "output_type": "execute_result"
    }
   ],
   "source": [
    "#importer le dataset\n",
    "Data = pd.read_csv('C:/Users/tahaj/OneDrive/Bureau/Stage/NightTimeLightCollection/preprocess_saudiarabia.csv',sep=\";\")\n",
    "Data.head()"
   ]
  },
  {
   "cell_type": "code",
   "execution_count": 8,
   "id": "575bd88d",
   "metadata": {
    "colab": {
     "base_uri": "https://localhost:8080/",
     "height": 481
    },
    "id": "575bd88d",
    "outputId": "73005717-1a95-41eb-d95f-57e294f684e8"
   },
   "outputs": [
    {
     "data": {
      "text/plain": [
       "<matplotlib.collections.PathCollection at 0x21dd11a3940>"
      ]
     },
     "execution_count": 8,
     "metadata": {},
     "output_type": "execute_result"
    },
    {
     "data": {
      "image/png": "[encoded data removed]",
      "text/plain": [
       "<Figure size 640x480 with 1 Axes>"
      ]
     },
     "metadata": {},
     "output_type": "display_data"
    }
   ],
   "source": [
    "# afficher nuage de points\n",
    "plt.scatter(Data['SOL'],Data['GDP'], color='green')"
   ]
  },
  {
   "cell_type": "code",
   "execution_count": 9,
   "id": "d5e4a817",
   "metadata": {
    "colab": {
     "base_uri": "https://localhost:8080/",
     "height": 206
    },
    "id": "d5e4a817",
    "outputId": "18c35b50-f76f-482f-a535-f551f186edcd"
   },
   "outputs": [
    {
     "data": {
      "text/html": [
       "<div>\n",
       "<style scoped>\n",
       "    .dataframe tbody tr th:only-of-type {\n",
       "        vertical-align: middle;\n",
       "    }\n",
       "\n",
       "    .dataframe tbody tr th {\n",
       "        vertical-align: top;\n",
       "    }\n",
       "\n",
       "    .dataframe thead th {\n",
       "        text-align: right;\n",
       "    }\n",
       "</style>\n",
       "<table border=\"1\" class=\"dataframe\">\n",
       "  <thead>\n",
       "    <tr style=\"text-align: right;\">\n",
       "      <th></th>\n",
       "      <th>SOL</th>\n",
       "      <th>GDP</th>\n",
       "    </tr>\n",
       "  </thead>\n",
       "  <tbody>\n",
       "    <tr>\n",
       "      <th>0</th>\n",
       "      <td>5.461777e+06</td>\n",
       "      <td>5.804692e+11</td>\n",
       "    </tr>\n",
       "    <tr>\n",
       "      <th>1</th>\n",
       "      <td>6.578292e+06</td>\n",
       "      <td>5.728170e+11</td>\n",
       "    </tr>\n",
       "    <tr>\n",
       "      <th>2</th>\n",
       "      <td>6.034126e+06</td>\n",
       "      <td>5.760421e+11</td>\n",
       "    </tr>\n",
       "    <tr>\n",
       "      <th>3</th>\n",
       "      <td>6.016527e+06</td>\n",
       "      <td>5.885344e+11</td>\n",
       "    </tr>\n",
       "    <tr>\n",
       "      <th>4</th>\n",
       "      <td>6.884214e+06</td>\n",
       "      <td>5.826578e+11</td>\n",
       "    </tr>\n",
       "  </tbody>\n",
       "</table>\n",
       "</div>"
      ],
      "text/plain": [
       "            SOL           GDP\n",
       "0  5.461777e+06  5.804692e+11\n",
       "1  6.578292e+06  5.728170e+11\n",
       "2  6.034126e+06  5.760421e+11\n",
       "3  6.016527e+06  5.885344e+11\n",
       "4  6.884214e+06  5.826578e+11"
      ]
     },
     "execution_count": 9,
     "metadata": {},
     "output_type": "execute_result"
    }
   ],
   "source": [
    "#exclure les données qui depasse 8882805.01817731 SOL\n",
    "#Data=Data[Data['SOL']<8882805.01817731]\n",
    "Data.drop('Date', axis=1,inplace=True)\n",
    "\n",
    "Data.head()"
   ]
  },
  {
   "cell_type": "code",
   "execution_count": 10,
   "id": "bd2dc623",
   "metadata": {
    "id": "bd2dc623"
   },
   "outputs": [],
   "source": [
    "\n",
    "#diviser le data\n",
    "X = Data.iloc[:,:-1].values\n",
    "Y = Data.iloc[:,-1].values\n"
   ]
  },
  {
   "cell_type": "code",
   "execution_count": 11,
   "id": "6a1ee2d0",
   "metadata": {
    "colab": {
     "base_uri": "https://localhost:8080/"
    },
    "id": "6a1ee2d0",
    "outputId": "376b22f3-0fe0-4ffa-c8dd-9cf55aa27397"
   },
   "outputs": [
    {
     "name": "stdout",
     "output_type": "stream",
     "text": [
      "[[ 5461777.01418678]\n",
      " [ 6578291.85573907]\n",
      " [ 6034125.9579807 ]\n",
      " [ 6016526.88388808]\n",
      " [ 6884214.04226324]\n",
      " [ 6949335.04770931]\n",
      " [ 7039826.55092578]\n",
      " [ 6549072.735552  ]\n",
      " [ 7141323.99009409]\n",
      " [ 7959676.54887908]\n",
      " [ 6674666.35981341]\n",
      " [ 8234748.34400376]\n",
      " [ 7810978.64702194]\n",
      " [ 7690892.76752404]\n",
      " [ 8254331.54959207]\n",
      " [ 7053784.75396159]\n",
      " [ 8156421.98662606]\n",
      " [ 8101564.6952341 ]\n",
      " [ 7889040.52012902]\n",
      " [ 8882805.01817731]\n",
      " [10422718.64190626]\n",
      " [10086638.02959433]\n",
      " [10542938.09522351]\n",
      " [ 9694315.84710111]\n",
      " [10550800.81157521]\n",
      " [ 9920017.95099152]\n",
      " [ 9249804.10320838]\n",
      " [ 9319418.55720056]\n",
      " [10244402.21359114]\n",
      " [ 9705952.63739056]\n",
      " [ 9726205.07694276]\n",
      " [ 9920707.78039067]\n",
      " [10217235.92990434]\n",
      " [10120692.48362991]\n",
      " [10571050.73969234]\n",
      " [ 9799487.75725083]\n",
      " [11159650.91747583]\n",
      " [10523725.12806524]\n",
      " [10474009.89620364]\n",
      " [10218280.69444519]\n",
      " [11426390.98943982]\n",
      " [ 9728882.17649882]\n",
      " [10124629.26979067]\n",
      " [ 9991580.24826339]]\n",
      "[5.80469208e+11 5.72817019e+11 5.76042082e+11 5.88534400e+11\n",
      " 5.82657778e+11 5.86119186e+11 6.17042016e+11 6.21821961e+11\n",
      " 6.10071602e+11 6.13456912e+11 6.34595647e+11 6.41727703e+11\n",
      " 6.44731517e+11 6.44446012e+11 6.65353960e+11 6.62253076e+11\n",
      " 6.53663679e+11 6.57615870e+11 6.84078108e+11 6.61672661e+11\n",
      " 6.52529975e+11 6.60411296e+11 6.81144498e+11 6.72415710e+11\n",
      " 6.65540129e+11 6.78092394e+11 7.13068720e+11 6.84845607e+11\n",
      " 6.74315210e+11 6.78159522e+11 7.14510516e+11 6.76056536e+11\n",
      " 6.24566586e+11 6.45841810e+11 6.85898277e+11 6.59999697e+11\n",
      " 6.43717621e+11 6.89294311e+11 7.42585604e+11 7.25735255e+11\n",
      " 7.16075923e+11 7.49421848e+11 7.83569031e+11 7.53190641e+11]\n"
     ]
    }
   ],
   "source": [
    "\n",
    "print(X)\n",
    "print(Y)"
   ]
  },
  {
   "cell_type": "code",
   "execution_count": 12,
   "id": "fbb1eb12",
   "metadata": {
    "id": "fbb1eb12"
   },
   "outputs": [],
   "source": [
    "\n",
    "X_train,X_test,Y_train,Y_test=train_test_split(X,Y,test_size=1/3)\n"
   ]
  },
  {
   "cell_type": "code",
   "execution_count": 13,
   "id": "fc2ddc42",
   "metadata": {
    "colab": {
     "base_uri": "https://localhost:8080/",
     "height": 74
    },
    "id": "fc2ddc42",
    "outputId": "51e44721-9be2-42a8-8df0-54d60d40ec2a",
    "scrolled": false
   },
   "outputs": [
    {
     "data": {
      "text/html": [
       "<style>#sk-container-id-1 {color: black;background-color: white;}#sk-container-id-1 pre{padding: 0;}#sk-container-id-1 div.sk-toggleable {background-color: white;}#sk-container-id-1 label.sk-toggleable__label {cursor: pointer;display: block;width: 100%;margin-bottom: 0;padding: 0.3em;box-sizing: border-box;text-align: center;}#sk-container-id-1 label.sk-toggleable__label-arrow:before {content: \"▸\";float: left;margin-right: 0.25em;color: #696969;}#sk-container-id-1 label.sk-toggleable__label-arrow:hover:before {color: black;}#sk-container-id-1 div.sk-estimator:hover label.sk-toggleable__label-arrow:before {color: black;}#sk-container-id-1 div.sk-toggleable__content {max-height: 0;max-width: 0;overflow: hidden;text-align: left;background-color: #f0f8ff;}#sk-container-id-1 div.sk-toggleable__content pre {margin: 0.2em;color: black;border-radius: 0.25em;background-color: #f0f8ff;}#sk-container-id-1 input.sk-toggleable__control:checked~div.sk-toggleable__content {max-height: 200px;max-width: 100%;overflow: auto;}#sk-container-id-1 input.sk-toggleable__control:checked~label.sk-toggleable__label-arrow:before {content: \"▾\";}#sk-container-id-1 div.sk-estimator input.sk-toggleable__control:checked~label.sk-toggleable__label {background-color: #d4ebff;}#sk-container-id-1 div.sk-label input.sk-toggleable__control:checked~label.sk-toggleable__label {background-color: #d4ebff;}#sk-container-id-1 input.sk-hidden--visually {border: 0;clip: rect(1px 1px 1px 1px);clip: rect(1px, 1px, 1px, 1px);height: 1px;margin: -1px;overflow: hidden;padding: 0;position: absolute;width: 1px;}#sk-container-id-1 div.sk-estimator {font-family: monospace;background-color: #f0f8ff;border: 1px dotted black;border-radius: 0.25em;box-sizing: border-box;margin-bottom: 0.5em;}#sk-container-id-1 div.sk-estimator:hover {background-color: #d4ebff;}#sk-container-id-1 div.sk-parallel-item::after {content: \"\";width: 100%;border-bottom: 1px solid gray;flex-grow: 1;}#sk-container-id-1 div.sk-label:hover label.sk-toggleable__label {background-color: #d4ebff;}#sk-container-id-1 div.sk-serial::before {content: \"\";position: absolute;border-left: 1px solid gray;box-sizing: border-box;top: 0;bottom: 0;left: 50%;z-index: 0;}#sk-container-id-1 div.sk-serial {display: flex;flex-direction: column;align-items: center;background-color: white;padding-right: 0.2em;padding-left: 0.2em;position: relative;}#sk-container-id-1 div.sk-item {position: relative;z-index: 1;}#sk-container-id-1 div.sk-parallel {display: flex;align-items: stretch;justify-content: center;background-color: white;position: relative;}#sk-container-id-1 div.sk-item::before, #sk-container-id-1 div.sk-parallel-item::before {content: \"\";position: absolute;border-left: 1px solid gray;box-sizing: border-box;top: 0;bottom: 0;left: 50%;z-index: -1;}#sk-container-id-1 div.sk-parallel-item {display: flex;flex-direction: column;z-index: 1;position: relative;background-color: white;}#sk-container-id-1 div.sk-parallel-item:first-child::after {align-self: flex-end;width: 50%;}#sk-container-id-1 div.sk-parallel-item:last-child::after {align-self: flex-start;width: 50%;}#sk-container-id-1 div.sk-parallel-item:only-child::after {width: 0;}#sk-container-id-1 div.sk-dashed-wrapped {border: 1px dashed gray;margin: 0 0.4em 0.5em 0.4em;box-sizing: border-box;padding-bottom: 0.4em;background-color: white;}#sk-container-id-1 div.sk-label label {font-family: monospace;font-weight: bold;display: inline-block;line-height: 1.2em;}#sk-container-id-1 div.sk-label-container {text-align: center;}#sk-container-id-1 div.sk-container {/* jupyter's `normalize.less` sets `[hidden] { display: none; }` but bootstrap.min.css set `[hidden] { display: none !important; }` so we also need the `!important` here to be able to override the default hidden behavior on the sphinx rendered scikit-learn.org. See: https://github.com/scikit-learn/scikit-learn/issues/21755 */display: inline-block !important;position: relative;}#sk-container-id-1 div.sk-text-repr-fallback {display: none;}</style><div id=\"sk-container-id-1\" class=\"sk-top-container\"><div class=\"sk-text-repr-fallback\"><pre>LinearRegression()</pre><b>In a Jupyter environment, please rerun this cell to show the HTML representation or trust the notebook. <br />On GitHub, the HTML representation is unable to render, please try loading this page with nbviewer.org.</b></div><div class=\"sk-container\" hidden><div class=\"sk-item\"><div class=\"sk-estimator sk-toggleable\"><input class=\"sk-toggleable__control sk-hidden--visually\" id=\"sk-estimator-id-1\" type=\"checkbox\" checked><label for=\"sk-estimator-id-1\" class=\"sk-toggleable__label sk-toggleable__label-arrow\">LinearRegression</label><div class=\"sk-toggleable__content\"><pre>LinearRegression()</pre></div></div></div></div></div>"
      ],
      "text/plain": [
       "LinearRegression()"
      ]
     },
     "execution_count": 13,
     "metadata": {},
     "output_type": "execute_result"
    }
   ],
   "source": [
    "\n",
    "#construire le modèle\n",
    "regressor = LinearRegression()\n",
    "\n",
    "#entrainer le model\n",
    "regressor.fit(X_train,Y_train)"
   ]
  },
  {
   "cell_type": "code",
   "execution_count": 14,
   "id": "8e2a4696",
   "metadata": {
    "id": "8e2a4696"
   },
   "outputs": [],
   "source": [
    "#faire des prédictons\n",
    "Y_pred=regressor.predict(X_test)"
   ]
  },
  {
   "cell_type": "code",
   "execution_count": 15,
   "id": "2d123116",
   "metadata": {
    "colab": {
     "base_uri": "https://localhost:8080/"
    },
    "id": "2d123116",
    "outputId": "8ae41323-85e7-42e3-fab5-b271325c0e4b"
   },
   "outputs": [
    {
     "data": {
      "text/plain": [
       "array([1.38810394e+16])"
      ]
     },
     "execution_count": 15,
     "metadata": {},
     "output_type": "execute_result"
    }
   ],
   "source": [
    "regressor.predict([[644446012027.0984]])"
   ]
  },
  {
   "cell_type": "code",
   "execution_count": 16,
   "id": "82222b54",
   "metadata": {
    "id": "82222b54"
   },
   "outputs": [
    {
     "data": {
      "text/plain": [
       "Text(0, 0.5, 'GDP')"
      ]
     },
     "execution_count": 16,
     "metadata": {},
     "output_type": "execute_result"
    },
    {
     "data": {
      "image/png": "[encoded data removed]",
      "text/plain": [
       "<Figure size 640x480 with 1 Axes>"
      ]
     },
     "metadata": {},
     "output_type": "display_data"
    }
   ],
   "source": [
    "#visualiser les resultats\n",
    "plt.scatter(X_test,Y_test,color='red')\n",
    "plt.plot(X_train,regressor.predict(X_train),color='blue')\n",
    "plt.title('PREDICTION')\n",
    "plt.xlabel('SOL')\n",
    "plt.ylabel('GDP')"
   ]
  },
  {
   "cell_type": "code",
   "execution_count": 17,
   "id": "352ab40a",
   "metadata": {
    "id": "352ab40a"
   },
   "outputs": [
    {
     "name": "stdout",
     "output_type": "stream",
     "text": [
      "Train RMSE: 30759394336.7977\n",
      "Test RMSE: 39803410873.13505\n"
     ]
    }
   ],
   "source": [
    "#Accuracy\n",
    "from sklearn.linear_model import LinearRegression\n",
    "from sklearn.metrics import mean_squared_error\n",
    "\n",
    "# Créer et entraîner le modèle de régression linéaire\n",
    "reg = LinearRegression()\n",
    "reg.fit(X_train, Y_train)\n",
    "\n",
    "# Faire des prédictions sur les données d'entraînement et de test\n",
    "train_predictions = reg.predict(X_train)\n",
    "test_predictions = reg.predict(X_test)\n",
    "\n",
    "# Calculer l'erreur quadratique moyenne (RMSE)\n",
    "train_rmse = mean_squared_error(Y_train, train_predictions, squared=False)\n",
    "test_rmse = mean_squared_error(Y_test, test_predictions, squared=False)\n",
    "\n",
    "print('Train RMSE:', train_rmse)\n",
    "print('Test RMSE:', test_rmse)\n"
   ]
  },
  {
   "cell_type": "code",
   "execution_count": null,
   "id": "a9310653",
   "metadata": {},
   "outputs": [],
   "source": []
  }
 ],
 "metadata": {
  "colab": {
   "provenance": []
  },
  "kernelspec": {
   "display_name": "Python 3 (ipykernel)",
   "language": "python",
   "name": "python3"
  },
  "language_info": {
   "codemirror_mode": {
    "name": "ipython",
    "version": 3
   },
   "file_extension": ".py",
   "mimetype": "text/x-python",
   "name": "python",
   "nbconvert_exporter": "python",
   "pygments_lexer": "ipython3",
   "version": "3.10.9"
  }
 },
 "nbformat": 4,
 "nbformat_minor": 5
}
